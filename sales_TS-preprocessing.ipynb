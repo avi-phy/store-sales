{
 "cells": [
  {
   "cell_type": "code",
   "execution_count": 1,
   "id": "bf45689a",
   "metadata": {},
   "outputs": [],
   "source": [
    "import pandas as pd\n",
    "from datetime import datetime\n",
    "from datetime import timedelta\n",
    "import numpy as np\n",
    "import math"
   ]
  },
  {
   "cell_type": "markdown",
   "id": "b95d8c40",
   "metadata": {},
   "source": [
    "data available at https://www.kaggle.com/competitions/store-sales-time-series-forecasting/leaderboard upon login."
   ]
  },
  {
   "cell_type": "code",
   "execution_count": 2,
   "id": "3db4c771",
   "metadata": {},
   "outputs": [],
   "source": [
    "train_csv=pd.read_csv(\"~/Downloads/store-sales-time-series-forecasting/new_train.csv\",parse_dates=True)\n",
    "\n",
    "train_csv[\"date\"]=pd.to_datetime(train_csv[\"date\"])\n",
    "#train_csv[\"date\"]=train_csv[\"date\"].apply(lambda x: datetime.timestamp(x))\n",
    "\n",
    "stores_csv=pd.read_csv(\"~/Downloads/store-sales-time-series-forecasting/stores.csv\")\n",
    "\n",
    "holiday_csv=pd.read_csv(\"~/Downloads/store-sales-time-series-forecasting/holidays_events.csv\",parse_dates=True)\n",
    "\n",
    "holiday_csv[\"date\"]=pd.to_datetime(holiday_csv[\"date\"])\n",
    "#holiday_csv[\"date\"]=holiday_csv[\"date\"].apply(lambda x: datetime.timestamp(x))\n",
    "\n",
    "oil_csv=pd.read_csv(\"~/Downloads/store-sales-time-series-forecasting/oil.csv\")\n",
    "\n",
    "oil_csv[\"date\"]=pd.to_datetime(oil_csv[\"date\"])\n",
    "\n",
    "trans_csv=pd.read_csv(\"~/Downloads/store-sales-time-series-forecasting/transactions.csv\")\n",
    "\n",
    "trans_csv[\"date\"]=pd.to_datetime(trans_csv[\"date\"])\n",
    "#trans_csv[\"date\"]=trans_csv[\"date\"].apply(lambda x: datetime.timestamp(x))\n",
    "\n",
    "test_csv=pd.read_csv(\"~/Downloads/store-sales-time-series-forecasting/test.csv\")"
   ]
  },
  {
   "cell_type": "code",
   "execution_count": 3,
   "id": "f824c465",
   "metadata": {},
   "outputs": [],
   "source": [
    "#### Generating a time index from 2013-01-01 to 2017-08-31 ################\n",
    "idx = pd.date_range('1/1/2013', periods=1704, freq='D')"
   ]
  },
  {
   "cell_type": "code",
   "execution_count": 4,
   "id": "e339ab7f",
   "metadata": {},
   "outputs": [],
   "source": [
    "#### Generating a time index from 2013-01-01 to 2017-08-15 for train set only################\n",
    "\n",
    "idx_train = pd.date_range('1/1/2013', periods=1688, freq='D')"
   ]
  },
  {
   "cell_type": "markdown",
   "id": "ec1503cf",
   "metadata": {},
   "source": [
    "# ADDING MISSING OIL PRICES "
   ]
  },
  {
   "cell_type": "code",
   "execution_count": 5,
   "id": "9c8d94b7",
   "metadata": {},
   "outputs": [],
   "source": [
    "######## creating a new oil dataframe ###############\n",
    "new_oil=pd.DataFrame(columns=[\"date\",\"price\"])"
   ]
  },
  {
   "cell_type": "code",
   "execution_count": 6,
   "id": "3a5fc822",
   "metadata": {},
   "outputs": [],
   "source": [
    "####### setting the date column from 2013-01-01 to 2017-08-31 #############\n",
    "new_oil[\"date\"]=idx"
   ]
  },
  {
   "cell_type": "code",
   "execution_count": 7,
   "id": "6a31546a",
   "metadata": {},
   "outputs": [],
   "source": [
    "########### adjoining intermediate missing values ############\n",
    "for i in range(len(idx)):\n",
    "    x=new_oil.iloc[i,0]\n",
    "    if x in oil_csv[\"date\"].values:\n",
    "        new_oil.iloc[i,1]=oil_csv[oil_csv[\"date\"]==x].iloc[0,1]"
   ]
  },
  {
   "cell_type": "code",
   "execution_count": 8,
   "id": "a9802e37",
   "metadata": {},
   "outputs": [],
   "source": [
    "########### setting the first missing value at the start of the dataframe ############\n",
    "new_oil.iloc[0,1]=93.14"
   ]
  },
  {
   "cell_type": "code",
   "execution_count": 9,
   "id": "ce7e0602",
   "metadata": {},
   "outputs": [],
   "source": [
    "########### replacing missing values with the mean of previous two values ############\n",
    "\n",
    "for i in range(1,len(new_oil)):\n",
    "    if math.isnan(new_oil.iloc[i,1]):\n",
    "        new_oil.iloc[i,1]=(new_oil.iloc[i-1,1]+new_oil.iloc[i-2,1])/2"
   ]
  },
  {
   "cell_type": "code",
   "execution_count": 10,
   "id": "e703d042",
   "metadata": {},
   "outputs": [],
   "source": [
    "######### setting the datatype for price ##########\n",
    "new_oil[\"price\"]=new_oil[\"price\"].astype(float)"
   ]
  },
  {
   "cell_type": "code",
   "execution_count": 11,
   "id": "121f2f62",
   "metadata": {},
   "outputs": [],
   "source": [
    "######### saving the new dataframe ################\n",
    "new_oil.to_csv(\"~/Downloads/store-sales-time-series-forecasting/new_oil.csv\",index=False)"
   ]
  },
  {
   "cell_type": "markdown",
   "id": "afab3766",
   "metadata": {},
   "source": [
    "# TRANSACTIONS"
   ]
  },
  {
   "cell_type": "code",
   "execution_count": null,
   "id": "d9e2a970",
   "metadata": {},
   "outputs": [],
   "source": [
    "######checking which dates are missing from trans_csv#########\n",
    "for x in idx_train:\n",
    "    if x not in trans_csv[\"date\"].values:\n",
    "        print(x)"
   ]
  },
  {
   "cell_type": "code",
   "execution_count": null,
   "id": "15916f28",
   "metadata": {},
   "outputs": [],
   "source": [
    "store_no=stores_csv[\"store_nbr\"].values"
   ]
  },
  {
   "cell_type": "code",
   "execution_count": null,
   "id": "2965f194",
   "metadata": {},
   "outputs": [],
   "source": [
    "############# checking if all dates have entries for all stores###########\n",
    "for x in idx_train:\n",
    "    missing=[]\n",
    "    for y in store_no:\n",
    "        if y not in trans_csv[trans_csv[\"date\"]==x].iloc[:,1].values:\n",
    "            missing.append(y)\n",
    "    if len(missing)>0:\n",
    "        print(x,missing)"
   ]
  },
  {
   "cell_type": "markdown",
   "id": "e187b23d",
   "metadata": {},
   "source": [
    "# TRAIN SET"
   ]
  },
  {
   "cell_type": "code",
   "execution_count": null,
   "id": "9c9f48de",
   "metadata": {},
   "outputs": [],
   "source": [
    "######### constructing a list of products #################\n",
    "product=train_csv[\"family\"].unique()"
   ]
  },
  {
   "cell_type": "code",
   "execution_count": null,
   "id": "30778afe",
   "metadata": {},
   "outputs": [],
   "source": [
    "########## checking if all dates are present in train ##########\n",
    "missing_dates=[]\n",
    "for x in idx_train:\n",
    "    if x not in train_csv[\"date\"].values:\n",
    "        missing_dates.append(x.date())\n",
    "print(missing_dates)"
   ]
  },
  {
   "cell_type": "code",
   "execution_count": null,
   "id": "a721a5bd",
   "metadata": {},
   "outputs": [],
   "source": [
    "############# checking if all dates have entries for all stores #############\n",
    "for x in idx_train:\n",
    "    missing=[]\n",
    "    for y in store_no:\n",
    "       # print(train_csv[train_csv[\"date\"]==x])\n",
    "        if y not in train_csv[train_csv[\"date\"]==x].iloc[:,1].values:\n",
    "            missing.append(y)\n",
    "    if len(missing)>0:\n",
    "        print(x,missing)"
   ]
  },
  {
   "cell_type": "code",
   "execution_count": null,
   "id": "0bf4f83c",
   "metadata": {},
   "outputs": [],
   "source": [
    "#############check if all product family is there for all dates###############\n",
    "for x in idx_train:\n",
    "    for y in store_no:\n",
    "        check1=train_csv[\"date\"]==x\n",
    "        check2=train_csv[\"store_nbr\"]==y\n",
    "        var=train_csv[check1 & check2]\n",
    "        var2=var.values\n",
    "        missing=[]\n",
    "        for z in product:\n",
    "            if z not in var2:\n",
    "                missing.append(z)\n",
    "        if len(missing)>0:\n",
    "            print(x,y,missing)"
   ]
  },
  {
   "cell_type": "markdown",
   "id": "08d5692e",
   "metadata": {},
   "source": [
    "# ADDING MISSING VALUES TO TRAIN"
   ]
  },
  {
   "cell_type": "code",
   "execution_count": null,
   "id": "1f1c63f3",
   "metadata": {},
   "outputs": [],
   "source": [
    "####### dropping the id column from train #############\n",
    "train_csv.drop(columns=\"id\",inplace=True)"
   ]
  },
  {
   "cell_type": "code",
   "execution_count": null,
   "id": "1d3a0920",
   "metadata": {},
   "outputs": [],
   "source": [
    "########### constructing an array consisting of missing values only ##############            \n",
    "append_train=[]\n",
    "for x in missing_dates:\n",
    "    for y in store_no:\n",
    "        for z in product:\n",
    "            #check1=train_csv[\"date\"]==x\n",
    "            check2=train_csv[\"store_nbr\"]==y\n",
    "            check3=train_csv[\"family\"]==z\n",
    "            check4=train_csv[\"date\"]==pd.to_datetime(x-timedelta(days=1))\n",
    "            check5=train_csv[\"date\"]==pd.to_datetime(x+timedelta(days=1))\n",
    "            app_prom=(train_csv[check4 & check2 & check3].iloc[0,4]+train_csv[check5 & check2 & check3].iloc[0,4])/2\n",
    "            app_sales=(train_csv[check4 & check2 & check3].iloc[0,3]+train_csv[check5 & check2 & check3].iloc[0,3])/2\n",
    "            app=[pd.to_datetime(x),y,z,app_sales,app_prom]\n",
    "            append_train.append(app)\n",
    "\n",
    "  "
   ]
  },
  {
   "cell_type": "code",
   "execution_count": null,
   "id": "2e44569d",
   "metadata": {},
   "outputs": [],
   "source": [
    "########### constructing a dataframe consisting of missing values only ##############            \n",
    "pd.DataFrame(append_train,columns=[\"date\",\"store_nbr\",\"family\",\"sales\",\"onpromotion\"])"
   ]
  },
  {
   "cell_type": "code",
   "execution_count": null,
   "id": "f339bec0",
   "metadata": {},
   "outputs": [],
   "source": [
    "########## appending the missing values to original dataframe and naming it new_train ################\n",
    "new_train=train_csv.append(pd.DataFrame(append_train,columns=[\"date\",\"store_nbr\",\"family\",\"sales\",\"onpromotion\"]),\\\n",
    "                           ignore_index=True)"
   ]
  },
  {
   "cell_type": "code",
   "execution_count": null,
   "id": "54795b6d",
   "metadata": {},
   "outputs": [],
   "source": [
    "######### sorting new_train ##############\n",
    "new_train=new_train.sort_values(by=[\"date\",\"store_nbr\"],ignore_index=True)"
   ]
  },
  {
   "cell_type": "code",
   "execution_count": null,
   "id": "081c8a42",
   "metadata": {},
   "outputs": [],
   "source": [
    "########### saving as new_train_csv #############\n",
    "new_train.to_csv(\"~/Downloads/store-sales-time-series-forecasting/new_train.csv\",header=new_train.columns,index=False,date_format='%Y-%m-%d %H:%M:%S')"
   ]
  },
  {
   "cell_type": "markdown",
   "id": "26220156",
   "metadata": {},
   "source": [
    "# HOLIDAYS"
   ]
  },
  {
   "cell_type": "code",
   "execution_count": null,
   "id": "2d00824a",
   "metadata": {},
   "outputs": [],
   "source": [
    "holiday_csv=pd.DataFrame.drop(holiday_csv,columns=[\"locale\",\"description\"])"
   ]
  },
  {
   "cell_type": "code",
   "execution_count": null,
   "id": "16a6be17",
   "metadata": {
    "scrolled": true
   },
   "outputs": [],
   "source": [
    "holiday_csv"
   ]
  },
  {
   "cell_type": "code",
   "execution_count": null,
   "id": "ce5ec128",
   "metadata": {},
   "outputs": [],
   "source": [
    "holiday_csv[\"date\"]=pd.to_datetime(holiday_csv[\"date\"].values)"
   ]
  },
  {
   "cell_type": "code",
   "execution_count": null,
   "id": "2861d343",
   "metadata": {},
   "outputs": [],
   "source": [
    "####### constructing an array of holidays and adding non holidays as working day############\n",
    "list=[]\n",
    "for x in idx:\n",
    "    if x in holiday_csv[\"date\"].values:\n",
    "        list.append(holiday_csv[holiday_csv[\"date\"]==pd.to_datetime(x)].values[0])\n",
    "    else:\n",
    "        list.append([pd.to_datetime(x),'Work Day','Ecuador',False])"
   ]
  },
  {
   "cell_type": "code",
   "execution_count": null,
   "id": "2241ea53",
   "metadata": {},
   "outputs": [],
   "source": [
    "####### saving the new dataframe as new_holiday ################\n",
    "X=pd.DataFrame(list,columns=[\"date\",\"type\",\"locale_name\",\"transferred\"])\n",
    "\n",
    "X.to_csv(\"~/Downloads/store-sales-time-series-forecasting/new_holiday.csv\",index=False)"
   ]
  }
 ],
 "metadata": {
  "kernelspec": {
   "display_name": "Python 3 (ipykernel)",
   "language": "python",
   "name": "python3"
  },
  "language_info": {
   "codemirror_mode": {
    "name": "ipython",
    "version": 3
   },
   "file_extension": ".py",
   "mimetype": "text/x-python",
   "name": "python",
   "nbconvert_exporter": "python",
   "pygments_lexer": "ipython3",
   "version": "3.9.12"
  }
 },
 "nbformat": 4,
 "nbformat_minor": 5
}
